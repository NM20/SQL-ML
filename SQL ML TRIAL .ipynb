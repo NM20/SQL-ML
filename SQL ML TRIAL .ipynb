{
 "cells": [
  {
   "cell_type": "code",
   "execution_count": 11,
   "metadata": {},
   "outputs": [
    {
     "name": "stdout",
     "output_type": "stream",
     "text": [
      "           DATE           \n",
      "0    2014-01-03    41.9136\n",
      "1    2014-01-04  -156.5776\n",
      "2    2014-01-05     2.5164\n",
      "3    2014-01-06   438.8041\n",
      "4    2014-01-07  -127.6740\n",
      "5    2014-01-09    23.3076\n",
      "6    2014-01-10    18.4934\n",
      "7    2014-01-11     7.3840\n",
      "8    2014-01-13 -1369.7798\n",
      "9    2014-01-14    -5.7150\n",
      "10   2014-01-15     3.5460\n",
      "11   2014-01-16    20.8725\n",
      "12   2014-01-18   -46.9764\n",
      "13   2014-01-19    47.0598\n",
      "14   2014-01-20   520.4454\n",
      "15   2014-01-21    16.3620\n",
      "16   2014-01-23     6.9912\n",
      "17   2014-01-26   305.8826\n",
      "18   2014-01-27  -131.3742\n",
      "19   2014-01-28    -1.9344\n",
      "20   2014-01-30    -3.1008\n",
      "21   2014-01-31   -14.4750\n",
      "22   2014-02-01    56.2032\n",
      "23   2014-02-02    18.4103\n",
      "24   2014-02-03    13.8526\n",
      "25   2014-02-04    42.9690\n",
      "26   2014-02-06    31.8788\n",
      "27   2014-02-07    22.7562\n",
      "28   2014-02-08    16.1504\n",
      "29   2014-02-11    70.9255\n",
      "..          ...        ...\n",
      "714  2016-05-23   149.8953\n",
      "715  2016-05-24    90.8472\n",
      "716  2016-05-25   -26.2986\n",
      "717  2016-05-26   465.1168\n",
      "718  2016-05-27    66.9581\n",
      "719  2016-05-28    15.5147\n",
      "720  2016-05-29  -187.5500\n",
      "721  2016-05-30   381.3981\n",
      "722  2016-05-31 -1197.4838\n",
      "723  2016-06-02    41.5972\n",
      "724  2016-06-03     4.4772\n",
      "725  2016-06-04   119.6076\n",
      "726  2016-06-05    -7.4914\n",
      "727  2016-06-06  1938.9757\n",
      "728  2016-06-07    82.7926\n",
      "729  2016-06-09   -59.6544\n",
      "730  2016-06-10    33.5560\n",
      "731  2016-06-11  1000.2196\n",
      "732  2016-06-12   665.4590\n",
      "733  2016-06-13    26.3466\n",
      "734  2016-06-14   130.3990\n",
      "735  2016-06-15     1.1946\n",
      "736  2016-06-16   329.2128\n",
      "737  2016-06-17   863.0606\n",
      "738  2016-06-18    65.5908\n",
      "739  2016-06-19    41.1208\n",
      "740  2016-06-20   122.3698\n",
      "741  2016-06-21     9.8273\n",
      "742  2016-06-23   345.4893\n",
      "743  2016-06-24     7.2090\n",
      "\n",
      "[744 rows x 2 columns]\n"
     ]
    },
    {
     "data": {
      "text/plain": [
       "array([112.40909865])"
      ]
     },
     "execution_count": 11,
     "metadata": {},
     "output_type": "execute_result"
    },
    {
     "data": {
      "image/png": "[encoded data removed]",
      "text/plain": [
       "<Figure size 432x288 with 1 Axes>"
      ]
     },
     "metadata": {
      "needs_background": "light"
     },
     "output_type": "display_data"
    }
   ],
   "source": [
    "import pyodbc\n",
    "import pandas as pd\n",
    "import numpy as np\n",
    "from sklearn.linear_model import LinearRegression\n",
    "from sklearn.model_selection import KFold\n",
    "\n",
    "conn2 = pyodbc.connect('Driver={SQL Server};'\n",
    "                      'Server=DESKTOP-GUHU2P9;'\n",
    "                      'Database=STORE;'\n",
    "                      'Trusted_Connection=yes;')\n",
    "cursor2 = conn2.cursor()\n",
    "\n",
    "sql3=\"SELECT DATE, SUM(SALES) FROM Sheet1$ group by DATE order by DATE  ; \"\n",
    "SQL_Query3=pd.read_sql_query(sql3,conn2)\n",
    "\n",
    "#print(SQL_Query3)\n",
    "\n",
    "df4=pd.DataFrame(SQL_Query3)\n",
    "print(df4)\n",
    "\n",
    "numpyArray = df4.values\n",
    "numpyArray\n",
    "for i in range(numpyArray.shape[0]):\n",
    "    numpyArray[i, 0] = i\n",
    "\n",
    "from sklearn.preprocessing import PolynomialFeatures\n",
    "from sklearn import linear_model\n",
    "regr = linear_model.LinearRegression()\n",
    "regr.fit(numpyArray[:, 0].reshape(-1, 1), numpyArray[:, 1].tolist())\n",
    "\n",
    "\n",
    "\n",
    "\n",
    "\n",
    "x = regr.predict(numpyArray[:, 0].reshape(-1, 1))\n",
    "import matplotlib.pyplot as plt\n",
    "plt.scatter(numpyArray[:, 0].reshape(-1, 1), numpyArray[:, 1].tolist(),  color='black')\n",
    "plt.scatter(numpyArray[:, 0].reshape(-1, 1), numpyArray[:, 1].tolist(),  color='black')\n",
    "plt.plot(numpyArray[:, 0].reshape(-1, 1), x, color='red', linewidth=3)\n",
    "\n",
    "\n",
    "\n",
    "\n",
    "import matplotlib.pyplot as plt\n",
    "plt.scatter(numpyArray[:, 0].reshape(-1, 1), numpyArray[:, 1].tolist(),  color='black')\n",
    "\n",
    "plt.plot(numpyArray[:, 0].reshape(-1, 1), x, color='red', linewidth=3)\n",
    "\n",
    "plt\n",
    "\n",
    "predictme = np.array([60])\n",
    "predictions = regr.predict(predictme.reshape(-1, 1))\n",
    "\n",
    "predictions\n",
    "\n",
    "\n"
   ]
  },
  {
   "cell_type": "code",
   "execution_count": null,
   "metadata": {},
   "outputs": [],
   "source": []
  },
  {
   "cell_type": "code",
   "execution_count": null,
   "metadata": {},
   "outputs": [],
   "source": []
  }
 ],
 "metadata": {
  "kernelspec": {
   "display_name": "Python 3",
   "language": "python",
   "name": "python3"
  },
  "language_info": {
   "codemirror_mode": {
    "name": "ipython",
    "version": 3
   },
   "file_extension": ".py",
   "mimetype": "text/x-python",
   "name": "python",
   "nbconvert_exporter": "python",
   "pygments_lexer": "ipython3",
   "version": "3.7.3"
  }
 },
 "nbformat": 4,
 "nbformat_minor": 2
}
